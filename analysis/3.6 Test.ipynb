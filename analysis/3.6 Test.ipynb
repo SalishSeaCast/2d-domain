{
 "cells": [
  {
   "cell_type": "markdown",
   "metadata": {},
   "source": [
    "Notebook to examined 3.6 test runs"
   ]
  },
  {
   "cell_type": "code",
   "execution_count": 1,
   "metadata": {
    "collapsed": false
   },
   "outputs": [],
   "source": [
    "import netCDF4 as nc\n",
    "import numpy as np\n",
    "from salishsea_tools import nc_tools\n",
    "import datetime\n",
    "import os\n",
    "\n",
    "import matplotlib.pyplot as plt\n",
    "\n",
    "%matplotlib inline"
   ]
  },
  {
   "cell_type": "code",
   "execution_count": 2,
   "metadata": {
    "collapsed": false
   },
   "outputs": [
    {
     "ename": "RuntimeError",
     "evalue": "No such file or directory",
     "output_type": "error",
     "traceback": [
      "\u001b[1;31m---------------------------------------------------------------------------\u001b[0m",
      "\u001b[1;31mRuntimeError\u001b[0m                              Traceback (most recent call last)",
      "\u001b[1;32m<ipython-input-2-30c1b1d7a5ca>\u001b[0m in \u001b[0;36m<module>\u001b[1;34m()\u001b[0m\n\u001b[0;32m      3\u001b[0m \u001b[0mfile_part\u001b[0m \u001b[1;33m=\u001b[0m \u001b[1;34m'SalishSea_4h_20020915_20021012_{}.nc'\u001b[0m\u001b[1;33m\u001b[0m\u001b[0m\n\u001b[0;32m      4\u001b[0m \u001b[1;33m\u001b[0m\u001b[0m\n\u001b[1;32m----> 5\u001b[1;33m \u001b[0mdT\u001b[0m \u001b[1;33m=\u001b[0m \u001b[0mnc\u001b[0m\u001b[1;33m.\u001b[0m\u001b[0mDataset\u001b[0m\u001b[1;33m(\u001b[0m\u001b[0mos\u001b[0m\u001b[1;33m.\u001b[0m\u001b[0mpath\u001b[0m\u001b[1;33m.\u001b[0m\u001b[0mjoin\u001b[0m\u001b[1;33m(\u001b[0m\u001b[0mpath\u001b[0m\u001b[1;33m,\u001b[0m\u001b[0mdirectory\u001b[0m\u001b[1;33m,\u001b[0m\u001b[0mfile_part\u001b[0m\u001b[1;33m.\u001b[0m\u001b[0mformat\u001b[0m\u001b[1;33m(\u001b[0m\u001b[1;34m'grid_T'\u001b[0m\u001b[1;33m)\u001b[0m\u001b[1;33m)\u001b[0m\u001b[1;33m)\u001b[0m\u001b[1;33m\u001b[0m\u001b[0m\n\u001b[0m\u001b[0;32m      6\u001b[0m \u001b[0msal\u001b[0m \u001b[1;33m=\u001b[0m \u001b[0mdT\u001b[0m\u001b[1;33m.\u001b[0m\u001b[0mvariables\u001b[0m\u001b[1;33m[\u001b[0m\u001b[1;34m'vosaline'\u001b[0m\u001b[1;33m]\u001b[0m\u001b[1;33m[\u001b[0m\u001b[1;33m:\u001b[0m\u001b[1;33m]\u001b[0m\u001b[1;33m\u001b[0m\u001b[0m\n\u001b[0;32m      7\u001b[0m \u001b[0msal\u001b[0m \u001b[1;33m=\u001b[0m \u001b[0mnp\u001b[0m\u001b[1;33m.\u001b[0m\u001b[0mma\u001b[0m\u001b[1;33m.\u001b[0m\u001b[0mmasked_values\u001b[0m\u001b[1;33m(\u001b[0m\u001b[0msal\u001b[0m\u001b[1;33m,\u001b[0m\u001b[1;36m0\u001b[0m\u001b[1;33m)\u001b[0m\u001b[1;33m\u001b[0m\u001b[0m\n",
      "\u001b[1;32mnetCDF4/_netCDF4.pyx\u001b[0m in \u001b[0;36mnetCDF4._netCDF4.Dataset.__init__ (netCDF4/_netCDF4.c:9551)\u001b[1;34m()\u001b[0m\n",
      "\u001b[1;31mRuntimeError\u001b[0m: No such file or directory"
     ]
    }
   ],
   "source": [
    "path = '/data/nsoontie/MEOPAR/SalishSea/results/2Ddomain/3.6'\n",
    "directory = 'densiity_output'\n",
    "file_part = 'SalishSea_4h_20020915_20021012_{}.nc'\n",
    "\n",
    "dT = nc.Dataset(os.path.join(path,directory,file_part.format('grid_T')))\n",
    "sal = dT.variables['vosaline'][:]\n",
    "sal = np.ma.masked_values(sal,0)\n",
    "deps = dT.variables['deptht'][:]\n",
    "temp = dT.variables['votemper'][:]\n",
    "temp = np.ma.masked_values(temp,0)\n",
    "ssh = dT.variables['sossheig'][:]\n",
    "n2 = dT.variables['buoy_n2'][:]\n",
    "n2 = np.ma.masked_values(n2,0)\n",
    "times = dT.variables['time_counter'][:]\n",
    "time_origin = datetime.datetime.strptime(dT.variables['time_counter'].time_origin, '%Y-%m-%d %H:%M:%S')\n",
    "\n",
    "dU = nc.Dataset(os.path.join(path,directory,file_part.format('grid_U')))\n",
    "U = dU.variables['vozocrtx'][:]\n",
    "U = np.ma.masked_values(U,0)\n",
    "depsU=dU.variables['depthu'][:]\n",
    "\n",
    "dW = nc.Dataset(os.path.join(path,directory,file_part.format('grid_W')))\n",
    "avt = dW.variables['vert_eddy_diff'][:]\n",
    "avt = np.ma.masked_values(avt,0)\n",
    "avm = dW.variables['vert_eddy_visc'][:]\n",
    "avm = np.ma.masked_values(avm,0)\n",
    "depsW=dW.variables['depthw'][:]\n",
    "diss = dW.variables['dissipation'][:]\n",
    "diss = np.ma.masked_values(diss,0)\n",
    "\n",
    "\n"
   ]
  },
  {
   "cell_type": "markdown",
   "metadata": {},
   "source": [
    "#Salinity"
   ]
  },
  {
   "cell_type": "code",
   "execution_count": null,
   "metadata": {
    "collapsed": false
   },
   "outputs": [],
   "source": [
    "smin=22\n",
    "smax=34\n",
    "t=0\n",
    "y=3\n",
    "plt.pcolormesh(np.arange(0,sal.shape[3]),deps,sal[t,:,y,:],vmin=smin,vmax=smax)\n",
    "plt.axis([0,1100,400,0])\n",
    "date =time_origin + datetime.timedelta(seconds = times[t])\n",
    "plt.title(date.strftime('%Y-%m-%d %H:%M'))\n",
    "plt.colorbar()"
   ]
  },
  {
   "cell_type": "code",
   "execution_count": null,
   "metadata": {
    "collapsed": false
   },
   "outputs": [],
   "source": [
    "t=-1\n",
    "plt.pcolormesh(np.arange(0,sal.shape[3]),deps,sal[t,:,y,:],vmin=smin,vmax=smax)\n",
    "plt.axis([0,1100,400,0])\n",
    "plt.colorbar()\n",
    "date =time_origin + datetime.timedelta(seconds = times[t])\n",
    "plt.title(date.strftime('%Y-%m-%d %H:%M'))"
   ]
  },
  {
   "cell_type": "markdown",
   "metadata": {},
   "source": [
    "winds stress still too strong? Surface layer is quite deep."
   ]
  },
  {
   "cell_type": "markdown",
   "metadata": {},
   "source": [
    "#Temperature"
   ]
  },
  {
   "cell_type": "code",
   "execution_count": null,
   "metadata": {
    "collapsed": false
   },
   "outputs": [],
   "source": [
    "tmin=3; tmax=10\n",
    "t=0\n",
    "plt.pcolormesh(np.arange(0,sal.shape[3]),deps,temp[t,:,y,:],vmin=tmin,vmax=tmax)\n",
    "plt.axis([0,1100,400,0])\n",
    "plt.colorbar()\n",
    "date =time_origin + datetime.timedelta(seconds = times[t])\n",
    "plt.title(date.strftime('%Y-%m-%d %H:%M'))"
   ]
  },
  {
   "cell_type": "code",
   "execution_count": null,
   "metadata": {
    "collapsed": false
   },
   "outputs": [],
   "source": [
    "\n",
    "t=-1\n",
    "plt.pcolormesh(np.arange(0,sal.shape[3]),deps,temp[t,:,y,:],vmin=tmin,vmax=tmax)\n",
    "plt.axis([0,1100,400,0])\n",
    "plt.colorbar()\n",
    "date =time_origin + datetime.timedelta(seconds = times[t])\n",
    "plt.title(date.strftime('%Y-%m-%d %H:%M'))"
   ]
  },
  {
   "cell_type": "markdown",
   "metadata": {},
   "source": [
    "May want to be more careful about how the water temperature of the river is specified. "
   ]
  },
  {
   "cell_type": "markdown",
   "metadata": {},
   "source": [
    "# U"
   ]
  },
  {
   "cell_type": "code",
   "execution_count": null,
   "metadata": {
    "collapsed": false
   },
   "outputs": [],
   "source": [
    "t=0\n",
    "umin=-1.5\n",
    "umax=1.5\n",
    "plt.pcolormesh(np.arange(0,U.shape[3]),depsU,U[t,:,y,:],vmin=umin,vmax=umax)\n",
    "plt.axis([0,1100,400,0])\n",
    "plt.colorbar()\n",
    "date =time_origin + datetime.timedelta(seconds = times[t])\n",
    "plt.title(date.strftime('%Y-%m-%d %H:%M'))"
   ]
  },
  {
   "cell_type": "code",
   "execution_count": null,
   "metadata": {
    "collapsed": false
   },
   "outputs": [],
   "source": [
    "t=-1\n",
    "plt.pcolormesh(np.arange(0,U.shape[3]),depsU,U[t,:,y,:],vmin=umin,vmax=umax)\n",
    "plt.axis([0,1100,400,0])\n",
    "plt.colorbar()\n",
    "date =time_origin + datetime.timedelta(seconds = times[t])\n",
    "plt.title(date.strftime('%Y-%m-%d %H:%M'))"
   ]
  },
  {
   "cell_type": "markdown",
   "metadata": {},
   "source": [
    "#SSH and tides"
   ]
  },
  {
   "cell_type": "code",
   "execution_count": null,
   "metadata": {
    "collapsed": false
   },
   "outputs": [],
   "source": [
    "dates = [time_origin + datetime.timedelta(seconds= t) for t in times]\n",
    "plt.plot(ssh[:,y,10])\n",
    "fig=plt.gcf()\n",
    "fig.autofmt_xdate()\n",
    "plt.grid()"
   ]
  },
  {
   "cell_type": "markdown",
   "metadata": {},
   "source": [
    "Spring tides at t=60-70, 145-155"
   ]
  },
  {
   "cell_type": "markdown",
   "metadata": {},
   "source": [
    "Amphidrome?"
   ]
  },
  {
   "cell_type": "code",
   "execution_count": null,
   "metadata": {
    "collapsed": false
   },
   "outputs": [],
   "source": [
    "plt.plot(dates,ssh[:,y,150])\n",
    "fig=plt.gcf()\n",
    "fig.autofmt_xdate()\n",
    "plt.grid()"
   ]
  },
  {
   "cell_type": "markdown",
   "metadata": {},
   "source": [
    "Yes, it looks like the tidal signal is mainly diurnal here at x=150."
   ]
  },
  {
   "cell_type": "code",
   "execution_count": null,
   "metadata": {
    "collapsed": false
   },
   "outputs": [],
   "source": [
    "plt.pcolormesh(ssh[:,y,:],vmin=-4,vmax=4)\n",
    "plt.colorbar()"
   ]
  },
  {
   "cell_type": "code",
   "execution_count": null,
   "metadata": {
    "collapsed": false
   },
   "outputs": [],
   "source": [
    "plt.plot(U[:,0,y,10])\n",
    "plt.xlabel('U [m/s]')"
   ]
  },
  {
   "cell_type": "code",
   "execution_count": null,
   "metadata": {
    "collapsed": false
   },
   "outputs": [],
   "source": [
    "print U.max()\n",
    "print U.min()"
   ]
  },
  {
   "cell_type": "code",
   "execution_count": null,
   "metadata": {
    "collapsed": false
   },
   "outputs": [],
   "source": [
    "plt.pcolormesh(U[:,0,y,:],vmin=-1.5,vmax=1.5)\n",
    "plt.colorbar()"
   ]
  },
  {
   "cell_type": "markdown",
   "metadata": {
    "collapsed": true
   },
   "source": [
    "#Plot at a time"
   ]
  },
  {
   "cell_type": "code",
   "execution_count": null,
   "metadata": {
    "collapsed": false
   },
   "outputs": [],
   "source": [
    "def plot_variables(t):\n",
    "    \"\"\"Plot salinity, temperature, vertical eddy viscosity, vertical eddy diffusivity,\n",
    "    buoyancy frequency, and U velocity at a chosen time. \n",
    "    \n",
    "    t is an integer for model output index\"\"\"\n",
    "    date =time_origin + datetime.timedelta(seconds = times[t])\n",
    "    print date.strftime('%Y-%m-%d %H:%M')\n",
    "    fig,axs = plt.subplots(3,2,figsize= (10,10))\n",
    "\n",
    "    #salnity\n",
    "    ax=axs[0,0]\n",
    "    mesh=ax.pcolormesh(np.arange(0,sal.shape[3]),deps,sal[t,:,y,:],vmin=smin,vmax=smax)\n",
    "    ax.set_ylim([400,0])\n",
    "    ax.set_xlim([0,1100])\n",
    "    plt.colorbar(mesh,ax=ax)\n",
    "    ax.set_title('Salinity')\n",
    "\n",
    "    #temp\n",
    "    ax=axs[0,1]\n",
    "    mesh=ax.pcolormesh(np.arange(0,temp.shape[3]),deps,temp[t,:,y,:],vmin=tmin,vmax=tmax)\n",
    "    ax.set_ylim([400,0])\n",
    "    ax.set_xlim([0,1100])\n",
    "    plt.colorbar(mesh,ax=ax)\n",
    "    ax.set_title('Temperature')\n",
    "\n",
    "    #diff\n",
    "    dmin=0; dmax=100\n",
    "    ax=axs[1,1]\n",
    "    mesh=ax.pcolormesh(np.arange(0,avt.shape[3]),depsW,avt[t,:,y,:],vmin=dmin, vmax=dmax, cmap='hot')\n",
    "    ax.set_ylim([400,0])\n",
    "    ax.set_xlim([0,1100])\n",
    "    plt.colorbar(mesh,ax=ax)\n",
    "    ax.set_title('Vertical eddy diff')\n",
    "\n",
    "    #visct\n",
    "    ax=axs[1,0]\n",
    "    mesh=ax.pcolormesh(np.arange(0,avm.shape[3]),depsW,avm[t,:,y,:],vmin=dmin, vmax=dmax,cmap='hot')\n",
    "    ax.set_ylim([400,0])\n",
    "    ax.set_xlim([0,1100])\n",
    "    plt.colorbar(mesh,ax=ax)\n",
    "    ax.set_title('Vertical eddy visc')\n",
    "\n",
    "    #n2\n",
    "    nmin=0; nmax=0.005\n",
    "    ax=axs[2,0]\n",
    "    mesh=ax.pcolormesh(np.arange(0,n2.shape[3]),deps,n2[t,:,y,:],vmin=nmin, vmax=nmax)\n",
    "    ax.set_ylim([400,0])\n",
    "    ax.set_xlim([0,1100])\n",
    "    plt.colorbar(mesh,ax=ax)\n",
    "    ax.set_title('Squared buoyancy frequency')\n",
    "\n",
    "    #U\n",
    "    ax=axs[2,1]\n",
    "    mesh=ax.pcolormesh(np.arange(0,U.shape[3]),depsU,U[t,:,y,:],vmin=umin, vmax=umax)\n",
    "    ax.set_ylim([400,0])\n",
    "    ax.set_xlim([0,1100])\n",
    "    plt.colorbar(mesh,ax=ax)\n",
    "    ax.set_title('U')\n",
    "    \n",
    "    return fig"
   ]
  },
  {
   "cell_type": "markdown",
   "metadata": {},
   "source": [
    "Spring tide"
   ]
  },
  {
   "cell_type": "code",
   "execution_count": null,
   "metadata": {
    "collapsed": false
   },
   "outputs": [],
   "source": [
    "fig = plot_variables(67)"
   ]
  },
  {
   "cell_type": "code",
   "execution_count": null,
   "metadata": {
    "collapsed": false
   },
   "outputs": [],
   "source": [
    "fig = plot_variables(68)"
   ]
  },
  {
   "cell_type": "markdown",
   "metadata": {},
   "source": [
    "Still not a lot of mixing over the sill. Is it too stratified? Is my second sill large enough?"
   ]
  },
  {
   "cell_type": "markdown",
   "metadata": {},
   "source": [
    "Second spring"
   ]
  },
  {
   "cell_type": "code",
   "execution_count": null,
   "metadata": {
    "collapsed": false
   },
   "outputs": [],
   "source": [
    "fig = plot_variables(129)"
   ]
  },
  {
   "cell_type": "markdown",
   "metadata": {},
   "source": [
    "Might need to be careful when masking the buoyancy frequency"
   ]
  },
  {
   "cell_type": "code",
   "execution_count": null,
   "metadata": {
    "collapsed": false
   },
   "outputs": [],
   "source": [
    "np.nanmax(avm)"
   ]
  },
  {
   "cell_type": "markdown",
   "metadata": {},
   "source": [
    "Neap"
   ]
  },
  {
   "cell_type": "code",
   "execution_count": null,
   "metadata": {
    "collapsed": false
   },
   "outputs": [],
   "source": [
    "fig = plot_variables(110)"
   ]
  },
  {
   "cell_type": "markdown",
   "metadata": {},
   "source": [
    "#Depth and thickness of cells"
   ]
  },
  {
   "cell_type": "code",
   "execution_count": null,
   "metadata": {
    "collapsed": false
   },
   "outputs": [],
   "source": [
    "print dT"
   ]
  },
  {
   "cell_type": "code",
   "execution_count": null,
   "metadata": {
    "collapsed": false
   },
   "outputs": [],
   "source": [
    "Tdep = dT.variables['T-depth_vvl']\n",
    "Tthick = dT.variables['T-thick_vvl']"
   ]
  },
  {
   "cell_type": "code",
   "execution_count": null,
   "metadata": {
    "collapsed": false
   },
   "outputs": [],
   "source": [
    "t=75\n",
    "plt.pcolormesh(Tthick[t,:,y,:])\n",
    "plt.colorbar()\n",
    "plt.axis([1000,1100,30,0])"
   ]
  },
  {
   "cell_type": "markdown",
   "metadata": {},
   "source": [
    "This is showing the deformation of the T grid cell thickness due to the vvl scheme. At the far right, the cells are deformed the most. I think this is where the ssh amlpitudes are highest. "
   ]
  },
  {
   "cell_type": "code",
   "execution_count": null,
   "metadata": {
    "collapsed": false
   },
   "outputs": [],
   "source": [
    "print Tthick"
   ]
  },
  {
   "cell_type": "markdown",
   "metadata": {},
   "source": [
    "Cell depths - accounting for partial steps (I think)"
   ]
  },
  {
   "cell_type": "code",
   "execution_count": null,
   "metadata": {
    "collapsed": false
   },
   "outputs": [],
   "source": [
    "t=120\n",
    "plt.pcolormesh(Tdep[t,:,y,:])\n",
    "plt.colorbar()\n",
    "plt.axis([0,1100,40,25])"
   ]
  },
  {
   "cell_type": "markdown",
   "metadata": {},
   "source": [
    "How do these changes compare with the depth recorded in the depths variable?"
   ]
  },
  {
   "cell_type": "code",
   "execution_count": null,
   "metadata": {
    "collapsed": false
   },
   "outputs": [],
   "source": [
    "plt.plot(Tdep[t,-1,y,:])\n",
    "plt.plot([0,1100],[deps[-1],deps[-1]], 'r-')"
   ]
  },
  {
   "cell_type": "markdown",
   "metadata": {},
   "source": [
    "So there can be as much as a 30m difference between the bottom depth and the partial cell depth. How does that work? The grid spacing is ~27 m..."
   ]
  },
  {
   "cell_type": "code",
   "execution_count": null,
   "metadata": {
    "collapsed": false
   },
   "outputs": [],
   "source": [
    "print Tdep"
   ]
  },
  {
   "cell_type": "markdown",
   "metadata": {
    "collapsed": true
   },
   "source": [
    "grid spacing"
   ]
  },
  {
   "cell_type": "code",
   "execution_count": null,
   "metadata": {
    "collapsed": false
   },
   "outputs": [],
   "source": [
    "print deps[1:]-deps[:-1]"
   ]
  },
  {
   "cell_type": "markdown",
   "metadata": {
    "collapsed": true
   },
   "source": [
    "#Buoyancy frequency\n",
    "\n",
    "Develop some code for analyzing stratification.\n",
    "\n",
    "Goal: Define a Froude number to compare with 3D case. Trying to figure out how I can make the dynamics of my 2D case more like the 3D. \n",
    "\n",
    "Ultimately I will need density and currents and will need to relate these to the input somehow.\n"
   ]
  },
  {
   "cell_type": "code",
   "execution_count": null,
   "metadata": {
    "collapsed": false
   },
   "outputs": [],
   "source": [
    "print np.max(n2)\n",
    "print np.unravel_index(np.argmax(n2), n2.shape)"
   ]
  },
  {
   "cell_type": "markdown",
   "metadata": {},
   "source": [
    "Boundary forcing makes a strong density gradient near the start of the simulation."
   ]
  },
  {
   "cell_type": "code",
   "execution_count": null,
   "metadata": {
    "collapsed": false
   },
   "outputs": [],
   "source": [
    "print np.min(n2)\n",
    "print np.unravel_index(np.argmin(n2), n2.shape)"
   ]
  },
  {
   "cell_type": "markdown",
   "metadata": {},
   "source": [
    "Unstable stratification"
   ]
  },
  {
   "cell_type": "markdown",
   "metadata": {
    "collapsed": true
   },
   "source": [
    "# Lats and Lons\n",
    "What do nav_lat and nav_lon look like? "
   ]
  },
  {
   "cell_type": "code",
   "execution_count": null,
   "metadata": {
    "collapsed": true
   },
   "outputs": [],
   "source": [
    "lat = dT.variables['nav_lat']\n",
    "lon = dT.variables['nav_lon']"
   ]
  },
  {
   "cell_type": "code",
   "execution_count": null,
   "metadata": {
    "collapsed": false
   },
   "outputs": [],
   "source": [
    "lat"
   ]
  },
  {
   "cell_type": "code",
   "execution_count": null,
   "metadata": {
    "collapsed": false
   },
   "outputs": [],
   "source": [
    "lat[:]"
   ]
  },
  {
   "cell_type": "code",
   "execution_count": null,
   "metadata": {
    "collapsed": false
   },
   "outputs": [],
   "source": [
    "lon"
   ]
  },
  {
   "cell_type": "code",
   "execution_count": null,
   "metadata": {
    "collapsed": false
   },
   "outputs": [],
   "source": [
    "lon[:]"
   ]
  },
  {
   "cell_type": "markdown",
   "metadata": {},
   "source": [
    "I don't like that they have units degress. That is weird to me."
   ]
  },
  {
   "cell_type": "code",
   "execution_count": null,
   "metadata": {
    "collapsed": true
   },
   "outputs": [],
   "source": []
  }
 ],
 "metadata": {
  "kernelspec": {
   "display_name": "Python 2",
   "language": "python",
   "name": "python2"
  },
  "language_info": {
   "codemirror_mode": {
    "name": "ipython",
    "version": 2
   },
   "file_extension": ".py",
   "mimetype": "text/x-python",
   "name": "python",
   "nbconvert_exporter": "python",
   "pygments_lexer": "ipython2",
   "version": "2.7.10"
  }
 },
 "nbformat": 4,
 "nbformat_minor": 0
}
