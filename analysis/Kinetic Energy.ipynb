{
 "cells": [
  {
   "cell_type": "code",
   "execution_count": 1,
   "metadata": {
    "collapsed": true
   },
   "outputs": [],
   "source": [
    "import netCDF4 as nc\n",
    "import matplotlib.pyplot as plt\n",
    "import os\n",
    "import glob\n",
    "import numpy as np\n",
    "\n",
    "from salishsea_tools import viz_tools\n",
    "\n",
    "%matplotlib inline"
   ]
  },
  {
   "cell_type": "code",
   "execution_count": 2,
   "metadata": {
    "collapsed": true
   },
   "outputs": [],
   "source": [
    "def get_files(run, base_dir, grid_dir, grid_type):\n",
    "    \n",
    "    fname = glob.glob(os.path.join(bas_dir, run,'*{}.nc'.format(grid_type)))[0]\n",
    "    f = nc.Dataset(fname)\n",
    "    \n",
    "    mesh_mask = nc.Dataset(os.path.join(grid_dir,'mesh_mask.nc'))\n",
    "    \n",
    "    return f, mesh_mask"
   ]
  },
  {
   "cell_type": "code",
   "execution_count": 3,
   "metadata": {
    "collapsed": true
   },
   "outputs": [],
   "source": [
    "runs = ['base_aug', 'base_aug_noHoll', 'base_aug_enst']\n",
    "bas_dir = '/data/nsoontie/MEOPAR/SalishSea/results/2Ddomain/3.6/mixing_paper/'\n",
    "grid_dir = '/data/nsoontie/MEOPAR/2Ddomain/grid/'"
   ]
  },
  {
   "cell_type": "code",
   "execution_count": 4,
   "metadata": {
    "collapsed": false
   },
   "outputs": [],
   "source": [
    "fUs = {}\n",
    "fWs = {}\n",
    "fVs={}\n",
    "meshs = {}\n",
    "\n",
    "for run in runs:\n",
    "    fUs[run], meshs[run] = get_files(run, bas_dir, grid_dir, 'grid_U')\n",
    "    fWs[run], meshs[run] = get_files(run, bas_dir, grid_dir, 'grid_W')\n",
    "    fVs[run], meshs[run] = get_files(run, bas_dir, grid_dir, 'grid_V')"
   ]
  },
  {
   "cell_type": "code",
   "execution_count": 5,
   "metadata": {
    "collapsed": false
   },
   "outputs": [],
   "source": [
    "def calculate_average_KE(u, v, mesh_mask,):\n",
    "    tmask = mesh_mask.variables['tmask'][...,1:,1:]\n",
    "    e3t = mesh_mask.variables['e3t_0'][...,1:,1:]\n",
    "    e1t = mesh_mask.variables['e1t'][...,1:,1:]\n",
    "    e2t = mesh_mask.variables['e2t'][...,1:,1:]\n",
    "    print(e2t.shape,tmask.shape)\n",
    "    \n",
    "    umask = mesh_mask.variables['umask'][:] + np.zeros(u.shape)\n",
    "    vmask = mesh_mask.variables['vmask'][:] + np.zeros(v.shape)\n",
    "    \n",
    "    um = np.ma.array(u,mask=1-umask)\n",
    "    vm = np.ma.array(v,mask=1-vmask)\n",
    "    \n",
    "    us, vs = viz_tools.unstagger(um,vm)\n",
    "    \n",
    "    KE = us**2 + vs**2\n",
    "    volume = np.sum(tmask*e3t*e2t*e1t)\n",
    "    print(run, volume)\n",
    "    KE_vol = KE*e3t*e2t*e1t*tmask\n",
    "    KEavg =np.sum(np.sum(np.sum(KE_vol, axis=-1),axis=-1),axis=-1)/volume\n",
    "    \n",
    "    return KEavg"
   ]
  },
  {
   "cell_type": "code",
   "execution_count": 6,
   "metadata": {
    "collapsed": false
   },
   "outputs": [
    {
     "name": "stdout",
     "output_type": "stream",
     "text": [
      "(1, 9, 1099) (1, 40, 9, 1099)\n",
      "base_aug 396128361845.0\n",
      "(1, 9, 1099) (1, 40, 9, 1099)\n",
      "base_aug_noHoll 396128361845.0\n",
      "(1, 9, 1099) (1, 40, 9, 1099)\n",
      "base_aug_enst 396128361845.0\n"
     ]
    }
   ],
   "source": [
    "KE_avgs = {}\n",
    "KEs = {}\n",
    "\n",
    "for run in runs:\n",
    "    v = fVs[run].variables['vomecrty'][:]\n",
    "    u = fUs[run].variables['vozocrtx'][:]\n",
    "    KE_avgs[run] = calculate_average_KE(u,v, meshs[run])"
   ]
  },
  {
   "cell_type": "code",
   "execution_count": 7,
   "metadata": {
    "collapsed": false
   },
   "outputs": [
    {
     "data": {
      "text/plain": [
       "<matplotlib.legend.Legend at 0x7fdd30481f98>"
      ]
     },
     "execution_count": 7,
     "metadata": {},
     "output_type": "execute_result"
    },
    {
     "data": {
      "image/png": "[encoded data removed]",
      "text/plain": [
       "<matplotlib.figure.Figure at 0x7fdd0466c710>"
      ]
     },
     "metadata": {},
     "output_type": "display_data"
    }
   ],
   "source": [
    "for run in runs:\n",
    "    plt.plot(KE_avgs[run][:] ,label=run)\n",
    "plt.legend(loc=0)"
   ]
  },
  {
   "cell_type": "code",
   "execution_count": null,
   "metadata": {
    "collapsed": false
   },
   "outputs": [],
   "source": [
    "plt.plot(KE_avgs[runs[0]] - KE_avgs[runs[1]])"
   ]
  },
  {
   "cell_type": "code",
   "execution_count": null,
   "metadata": {
    "collapsed": false
   },
   "outputs": [],
   "source": [
    "t=39\n",
    "fig,axs = plt.subplots(1,2,figsize=(15,5))\n",
    "for run, ax in zip(runs,axs):\n",
    "    w = fWs[run].variables['vovecrtz'][:]\n",
    "    u = fUs[run].variables['vozocrtx'][:]\n",
    "    depts = meshs[run]['gdepu'][0,:,5,:]\n",
    "    phi = meshs[run]['glamu'][0,5,:]\n",
    "    mesh=ax.pcolormesh(phi, depts,u[t,:,5,:],vmin=-.5,vmax=.5,label=run)\n",
    "    plt.colorbar(mesh,ax=ax)\n",
    "    ax.set_title(run)"
   ]
  },
  {
   "cell_type": "code",
   "execution_count": 70,
   "metadata": {
    "collapsed": false
   },
   "outputs": [
    {
     "data": {
      "text/plain": [
       "<matplotlib.colorbar.Colorbar at 0x7f34dd9faa58>"
      ]
     },
     "execution_count": 70,
     "metadata": {},
     "output_type": "execute_result"
    },
    {
     "data": {
      "image/png": "[encoded data removed]",
      "text/plain": [
       "<matplotlib.figure.Figure at 0x7f34ddc9e710>"
      ]
     },
     "metadata": {},
     "output_type": "display_data"
    }
   ],
   "source": [
    "plt.pcolormesh(v[-1,:,6,:])\n",
    "plt.colorbar()"
   ]
  },
  {
   "cell_type": "code",
   "execution_count": 66,
   "metadata": {
    "collapsed": false
   },
   "outputs": [
    {
     "name": "stdout",
     "output_type": "stream",
     "text": [
      "base_aug_noHoll\n"
     ]
    }
   ],
   "source": [
    "print(run)"
   ]
  },
  {
   "cell_type": "code",
   "execution_count": 39,
   "metadata": {
    "collapsed": false
   },
   "outputs": [
    {
     "data": {
      "text/plain": [
       "OrderedDict([('nav_lon', <class 'netCDF4._netCDF4.Variable'>\n",
       "              float32 nav_lon(y, x)\n",
       "              unlimited dimensions: \n",
       "              current shape = (10, 1100)\n",
       "              filling on, default _FillValue of 9.969209968386869e+36 used),\n",
       "             ('nav_lat', <class 'netCDF4._netCDF4.Variable'>\n",
       "              float32 nav_lat(y, x)\n",
       "              unlimited dimensions: \n",
       "              current shape = (10, 1100)\n",
       "              filling on, default _FillValue of 9.969209968386869e+36 used),\n",
       "             ('nav_lev', <class 'netCDF4._netCDF4.Variable'>\n",
       "              float32 nav_lev(z)\n",
       "              unlimited dimensions: \n",
       "              current shape = (40,)\n",
       "              filling on, default _FillValue of 9.969209968386869e+36 used),\n",
       "             ('time_counter', <class 'netCDF4._netCDF4.Variable'>\n",
       "              float64 time_counter(t)\n",
       "              unlimited dimensions: t\n",
       "              current shape = (1,)\n",
       "              filling on, default _FillValue of 9.969209968386869e+36 used),\n",
       "             ('tmask', <class 'netCDF4._netCDF4.Variable'>\n",
       "              int8 tmask(t, z, y, x)\n",
       "              unlimited dimensions: t\n",
       "              current shape = (1, 40, 10, 1100)\n",
       "              filling on, default _FillValue of -127 ignored),\n",
       "             ('umask', <class 'netCDF4._netCDF4.Variable'>\n",
       "              int8 umask(t, z, y, x)\n",
       "              unlimited dimensions: t\n",
       "              current shape = (1, 40, 10, 1100)\n",
       "              filling on, default _FillValue of -127 ignored),\n",
       "             ('vmask', <class 'netCDF4._netCDF4.Variable'>\n",
       "              int8 vmask(t, z, y, x)\n",
       "              unlimited dimensions: t\n",
       "              current shape = (1, 40, 10, 1100)\n",
       "              filling on, default _FillValue of -127 ignored),\n",
       "             ('fmask', <class 'netCDF4._netCDF4.Variable'>\n",
       "              int8 fmask(t, z, y, x)\n",
       "              unlimited dimensions: t\n",
       "              current shape = (1, 40, 10, 1100)\n",
       "              filling on, default _FillValue of -127 ignored),\n",
       "             ('tmaskutil', <class 'netCDF4._netCDF4.Variable'>\n",
       "              int8 tmaskutil(t, y, x)\n",
       "              unlimited dimensions: t\n",
       "              current shape = (1, 10, 1100)\n",
       "              filling on, default _FillValue of -127 ignored),\n",
       "             ('umaskutil', <class 'netCDF4._netCDF4.Variable'>\n",
       "              int8 umaskutil(t, y, x)\n",
       "              unlimited dimensions: t\n",
       "              current shape = (1, 10, 1100)\n",
       "              filling on, default _FillValue of -127 ignored),\n",
       "             ('vmaskutil', <class 'netCDF4._netCDF4.Variable'>\n",
       "              int8 vmaskutil(t, y, x)\n",
       "              unlimited dimensions: t\n",
       "              current shape = (1, 10, 1100)\n",
       "              filling on, default _FillValue of -127 ignored),\n",
       "             ('fmaskutil', <class 'netCDF4._netCDF4.Variable'>\n",
       "              int8 fmaskutil(t, y, x)\n",
       "              unlimited dimensions: t\n",
       "              current shape = (1, 10, 1100)\n",
       "              filling on, default _FillValue of -127 ignored),\n",
       "             ('glamt', <class 'netCDF4._netCDF4.Variable'>\n",
       "              float32 glamt(t, y, x)\n",
       "              unlimited dimensions: t\n",
       "              current shape = (1, 10, 1100)\n",
       "              filling on, default _FillValue of 9.969209968386869e+36 used),\n",
       "             ('glamu', <class 'netCDF4._netCDF4.Variable'>\n",
       "              float32 glamu(t, y, x)\n",
       "              unlimited dimensions: t\n",
       "              current shape = (1, 10, 1100)\n",
       "              filling on, default _FillValue of 9.969209968386869e+36 used),\n",
       "             ('glamv', <class 'netCDF4._netCDF4.Variable'>\n",
       "              float32 glamv(t, y, x)\n",
       "              unlimited dimensions: t\n",
       "              current shape = (1, 10, 1100)\n",
       "              filling on, default _FillValue of 9.969209968386869e+36 used),\n",
       "             ('glamf', <class 'netCDF4._netCDF4.Variable'>\n",
       "              float32 glamf(t, y, x)\n",
       "              unlimited dimensions: t\n",
       "              current shape = (1, 10, 1100)\n",
       "              filling on, default _FillValue of 9.969209968386869e+36 used),\n",
       "             ('gphit', <class 'netCDF4._netCDF4.Variable'>\n",
       "              float32 gphit(t, y, x)\n",
       "              unlimited dimensions: t\n",
       "              current shape = (1, 10, 1100)\n",
       "              filling on, default _FillValue of 9.969209968386869e+36 used),\n",
       "             ('gphiu', <class 'netCDF4._netCDF4.Variable'>\n",
       "              float32 gphiu(t, y, x)\n",
       "              unlimited dimensions: t\n",
       "              current shape = (1, 10, 1100)\n",
       "              filling on, default _FillValue of 9.969209968386869e+36 used),\n",
       "             ('gphiv', <class 'netCDF4._netCDF4.Variable'>\n",
       "              float32 gphiv(t, y, x)\n",
       "              unlimited dimensions: t\n",
       "              current shape = (1, 10, 1100)\n",
       "              filling on, default _FillValue of 9.969209968386869e+36 used),\n",
       "             ('gphif', <class 'netCDF4._netCDF4.Variable'>\n",
       "              float32 gphif(t, y, x)\n",
       "              unlimited dimensions: t\n",
       "              current shape = (1, 10, 1100)\n",
       "              filling on, default _FillValue of 9.969209968386869e+36 used),\n",
       "             ('e1t', <class 'netCDF4._netCDF4.Variable'>\n",
       "              float64 e1t(t, y, x)\n",
       "              unlimited dimensions: t\n",
       "              current shape = (1, 10, 1100)\n",
       "              filling on, default _FillValue of 9.969209968386869e+36 used),\n",
       "             ('e1u', <class 'netCDF4._netCDF4.Variable'>\n",
       "              float64 e1u(t, y, x)\n",
       "              unlimited dimensions: t\n",
       "              current shape = (1, 10, 1100)\n",
       "              filling on, default _FillValue of 9.969209968386869e+36 used),\n",
       "             ('e1v', <class 'netCDF4._netCDF4.Variable'>\n",
       "              float64 e1v(t, y, x)\n",
       "              unlimited dimensions: t\n",
       "              current shape = (1, 10, 1100)\n",
       "              filling on, default _FillValue of 9.969209968386869e+36 used),\n",
       "             ('e1f', <class 'netCDF4._netCDF4.Variable'>\n",
       "              float64 e1f(t, y, x)\n",
       "              unlimited dimensions: t\n",
       "              current shape = (1, 10, 1100)\n",
       "              filling on, default _FillValue of 9.969209968386869e+36 used),\n",
       "             ('e2t', <class 'netCDF4._netCDF4.Variable'>\n",
       "              float64 e2t(t, y, x)\n",
       "              unlimited dimensions: t\n",
       "              current shape = (1, 10, 1100)\n",
       "              filling on, default _FillValue of 9.969209968386869e+36 used),\n",
       "             ('e2u', <class 'netCDF4._netCDF4.Variable'>\n",
       "              float64 e2u(t, y, x)\n",
       "              unlimited dimensions: t\n",
       "              current shape = (1, 10, 1100)\n",
       "              filling on, default _FillValue of 9.969209968386869e+36 used),\n",
       "             ('e2v', <class 'netCDF4._netCDF4.Variable'>\n",
       "              float64 e2v(t, y, x)\n",
       "              unlimited dimensions: t\n",
       "              current shape = (1, 10, 1100)\n",
       "              filling on, default _FillValue of 9.969209968386869e+36 used),\n",
       "             ('e2f', <class 'netCDF4._netCDF4.Variable'>\n",
       "              float64 e2f(t, y, x)\n",
       "              unlimited dimensions: t\n",
       "              current shape = (1, 10, 1100)\n",
       "              filling on, default _FillValue of 9.969209968386869e+36 used),\n",
       "             ('ff', <class 'netCDF4._netCDF4.Variable'>\n",
       "              float64 ff(t, y, x)\n",
       "              unlimited dimensions: t\n",
       "              current shape = (1, 10, 1100)\n",
       "              filling on, default _FillValue of 9.969209968386869e+36 used),\n",
       "             ('mbathy', <class 'netCDF4._netCDF4.Variable'>\n",
       "              int16 mbathy(t, y, x)\n",
       "              unlimited dimensions: t\n",
       "              current shape = (1, 10, 1100)\n",
       "              filling on, default _FillValue of -32767 used),\n",
       "             ('misf', <class 'netCDF4._netCDF4.Variable'>\n",
       "              int16 misf(t, y, x)\n",
       "              unlimited dimensions: t\n",
       "              current shape = (1, 10, 1100)\n",
       "              filling on, default _FillValue of -32767 used),\n",
       "             ('isfdraft', <class 'netCDF4._netCDF4.Variable'>\n",
       "              float32 isfdraft(t, y, x)\n",
       "              unlimited dimensions: t\n",
       "              current shape = (1, 10, 1100)\n",
       "              filling on, default _FillValue of 9.969209968386869e+36 used),\n",
       "             ('e3t_0', <class 'netCDF4._netCDF4.Variable'>\n",
       "              float64 e3t_0(t, z, y, x)\n",
       "              unlimited dimensions: t\n",
       "              current shape = (1, 40, 10, 1100)\n",
       "              filling on, default _FillValue of 9.969209968386869e+36 used),\n",
       "             ('e3u_0', <class 'netCDF4._netCDF4.Variable'>\n",
       "              float64 e3u_0(t, z, y, x)\n",
       "              unlimited dimensions: t\n",
       "              current shape = (1, 40, 10, 1100)\n",
       "              filling on, default _FillValue of 9.969209968386869e+36 used),\n",
       "             ('e3v_0', <class 'netCDF4._netCDF4.Variable'>\n",
       "              float64 e3v_0(t, z, y, x)\n",
       "              unlimited dimensions: t\n",
       "              current shape = (1, 40, 10, 1100)\n",
       "              filling on, default _FillValue of 9.969209968386869e+36 used),\n",
       "             ('e3w_0', <class 'netCDF4._netCDF4.Variable'>\n",
       "              float64 e3w_0(t, z, y, x)\n",
       "              unlimited dimensions: t\n",
       "              current shape = (1, 40, 10, 1100)\n",
       "              filling on, default _FillValue of 9.969209968386869e+36 used),\n",
       "             ('gdept_0', <class 'netCDF4._netCDF4.Variable'>\n",
       "              float32 gdept_0(t, z, y, x)\n",
       "              unlimited dimensions: t\n",
       "              current shape = (1, 40, 10, 1100)\n",
       "              filling on, default _FillValue of 9.969209968386869e+36 used),\n",
       "             ('gdepu', <class 'netCDF4._netCDF4.Variable'>\n",
       "              float32 gdepu(t, z, y, x)\n",
       "              unlimited dimensions: t\n",
       "              current shape = (1, 40, 10, 1100)\n",
       "              filling on, default _FillValue of 9.969209968386869e+36 used),\n",
       "             ('gdepv', <class 'netCDF4._netCDF4.Variable'>\n",
       "              float32 gdepv(t, z, y, x)\n",
       "              unlimited dimensions: t\n",
       "              current shape = (1, 40, 10, 1100)\n",
       "              filling on, default _FillValue of 9.969209968386869e+36 used),\n",
       "             ('gdepw_0', <class 'netCDF4._netCDF4.Variable'>\n",
       "              float32 gdepw_0(t, z, y, x)\n",
       "              unlimited dimensions: t\n",
       "              current shape = (1, 40, 10, 1100)\n",
       "              filling on, default _FillValue of 9.969209968386869e+36 used),\n",
       "             ('gdept_1d', <class 'netCDF4._netCDF4.Variable'>\n",
       "              float64 gdept_1d(t, z)\n",
       "              unlimited dimensions: t\n",
       "              current shape = (1, 40)\n",
       "              filling on, default _FillValue of 9.969209968386869e+36 used),\n",
       "             ('gdepw_1d', <class 'netCDF4._netCDF4.Variable'>\n",
       "              float64 gdepw_1d(t, z)\n",
       "              unlimited dimensions: t\n",
       "              current shape = (1, 40)\n",
       "              filling on, default _FillValue of 9.969209968386869e+36 used),\n",
       "             ('e3t_1d', <class 'netCDF4._netCDF4.Variable'>\n",
       "              float64 e3t_1d(t, z)\n",
       "              unlimited dimensions: t\n",
       "              current shape = (1, 40)\n",
       "              filling on, default _FillValue of 9.969209968386869e+36 used),\n",
       "             ('e3w_1d', <class 'netCDF4._netCDF4.Variable'>\n",
       "              float64 e3w_1d(t, z)\n",
       "              unlimited dimensions: t\n",
       "              current shape = (1, 40)\n",
       "              filling on, default _FillValue of 9.969209968386869e+36 used)])"
      ]
     },
     "execution_count": 39,
     "metadata": {},
     "output_type": "execute_result"
    }
   ],
   "source": [
    "meshs[run].variables"
   ]
  },
  {
   "cell_type": "code",
   "execution_count": null,
   "metadata": {
    "collapsed": true
   },
   "outputs": [],
   "source": []
  }
 ],
 "metadata": {
  "kernelspec": {
   "display_name": "Python 3",
   "language": "python",
   "name": "python3"
  },
  "language_info": {
   "codemirror_mode": {
    "name": "ipython",
    "version": 3
   },
   "file_extension": ".py",
   "mimetype": "text/x-python",
   "name": "python",
   "nbconvert_exporter": "python",
   "pygments_lexer": "ipython3",
   "version": "3.5.1"
  }
 },
 "nbformat": 4,
 "nbformat_minor": 0
}
