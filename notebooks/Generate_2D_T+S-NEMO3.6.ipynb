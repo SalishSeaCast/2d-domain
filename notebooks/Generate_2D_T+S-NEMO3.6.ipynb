{
 "cells": [
  {
   "cell_type": "markdown",
   "metadata": {},
   "source": [
    "This notebook generates a 2D initial condition file for the 2D domain."
   ]
  },
  {
   "cell_type": "markdown",
   "metadata": {},
   "source": [
    "Plan: Use T+S structure along thalweg from a spinup. Apply to new domain. If spinup T+S is masked and new profile isn't, set T/S equal to value from above?\n",
    "\n"
   ]
  },
  {
   "cell_type": "code",
   "execution_count": 1,
   "metadata": {
    "collapsed": false
   },
   "outputs": [],
   "source": [
    "import netCDF4 as nc\n",
    "import numpy as np\n",
    "import matplotlib.pyplot as plt\n",
    "\n",
    "from salishsea_tools import tidetools,nc_tools\n",
    "\n",
    "%matplotlib inline"
   ]
  },
  {
   "cell_type": "markdown",
   "metadata": {},
   "source": [
    "# Initial data"
   ]
  },
  {
   "cell_type": "code",
   "execution_count": 2,
   "metadata": {
    "collapsed": false
   },
   "outputs": [],
   "source": [
    "#Spinup data and batyhmetry\n",
    "#Choose a date (I should do this in a better way with variables...)\n",
    "date = 'uniform'\n",
    "old=nc.Dataset('../initial_conditions/TS_uniform.nc')\n",
    "dspin =old.variables['deptht'][:]\n",
    "\n",
    "Sspin = old.variables['vosaline'][:]\n",
    "Tspin = old.variables['votemper'][:]\n",
    "grid=nc.Dataset('/data/nsoontie/MEOPAR/NEMO-forcing/grid/bathy_meter_SalishSea2.nc')\n",
    "\n",
    "x2d=old.variables['x'][:]\n",
    "y2d=old.variables['y'][:]"
   ]
  },
  {
   "cell_type": "code",
   "execution_count": 6,
   "metadata": {
    "collapsed": false
   },
   "outputs": [
    {
     "data": {
      "text/plain": [
       "<matplotlib.colorbar.Colorbar instance at 0x7f1cfb62c2d8>"
      ]
     },
     "execution_count": 6,
     "metadata": {},
     "output_type": "execute_result"
    },
    {
     "data": {
      "image/png": "[encoded data removed]",
      "text/plain": [
       "<matplotlib.figure.Figure at 0x7f1d29940910>"
      ]
     },
     "metadata": {},
     "output_type": "display_data"
    }
   ],
   "source": [
    "\n",
    "plt.pcolormesh(Sspin[0,:,1,:],vmin=0,vmax=33)\n",
    "plt.colorbar()"
   ]
  },
  {
   "cell_type": "code",
   "execution_count": 7,
   "metadata": {
    "collapsed": false
   },
   "outputs": [
    {
     "data": {
      "text/plain": [
       "<matplotlib.colorbar.Colorbar instance at 0x7f1cfb482f80>"
      ]
     },
     "execution_count": 7,
     "metadata": {},
     "output_type": "execute_result"
    },
    {
     "data": {
      "image/png": "[encoded data removed]",
      "text/plain": [
       "<matplotlib.figure.Figure at 0x7f1d29940990>"
      ]
     },
     "metadata": {},
     "output_type": "display_data"
    }
   ],
   "source": [
    "plt.pcolormesh(Tspin[0,:,1,:],vmin=3,vmax=20)\n",
    "plt.colorbar()"
   ]
  },
  {
   "cell_type": "markdown",
   "metadata": {},
   "source": [
    "#Mask edges"
   ]
  },
  {
   "cell_type": "code",
   "execution_count": 8,
   "metadata": {
    "collapsed": false
   },
   "outputs": [
    {
     "data": {
      "text/plain": [
       "<matplotlib.collections.QuadMesh at 0x7f1cfb3dadd0>"
      ]
     },
     "execution_count": 8,
     "metadata": {},
     "output_type": "execute_result"
    },
    {
     "data": {
      "image/png": "[encoded data removed]",
      "text/plain": [
       "<matplotlib.figure.Figure at 0x7f1d29940d50>"
      ]
     },
     "metadata": {},
     "output_type": "display_data"
    }
   ],
   "source": [
    "T_y=Tspin\n",
    "T_y[0,:,0,:]=0\n",
    "T_y[0,:,-1,:]=0\n",
    "T_y[0,:,:,0]=0\n",
    "\n",
    "plt.pcolormesh(T_y[0,0,:,:])"
   ]
  },
  {
   "cell_type": "code",
   "execution_count": 9,
   "metadata": {
    "collapsed": false
   },
   "outputs": [
    {
     "data": {
      "text/plain": [
       "<matplotlib.collections.QuadMesh at 0x7f1cfb311450>"
      ]
     },
     "execution_count": 9,
     "metadata": {},
     "output_type": "execute_result"
    },
    {
     "data": {
      "image/png": "[encoded data removed]",
      "text/plain": [
       "<matplotlib.figure.Figure at 0x7f1d29940890>"
      ]
     },
     "metadata": {},
     "output_type": "display_data"
    }
   ],
   "source": [
    "S_y=Sspin\n",
    "S_y[0,:,0,:]=0\n",
    "S_y[0,:,-1,:]=0\n",
    "S_y[0,:,:,0]=0\n",
    "\n",
    "plt.pcolormesh(S_y[0,0,:,:])"
   ]
  },
  {
   "cell_type": "markdown",
   "metadata": {},
   "source": [
    "# Save as NETCDF"
   ]
  },
  {
   "cell_type": "code",
   "execution_count": 10,
   "metadata": {
    "collapsed": false
   },
   "outputs": [
    {
     "name": "stdout",
     "output_type": "stream",
     "text": [
      "file format: NETCDF4\n",
      "Conventions: CF-1.6\n",
      "title: 2D T+S initialization\n",
      "institution: Dept of Earth, Ocean & Atmospheric Sciences, University of British Columbia\n",
      "source: https://bitbucket.org/salishsea/2d-domain/src/tip/Generate 2D T+S-NEMO2.6.ipynb\n",
      "references: REQUIRED\n",
      "history: [2015-08-05 15:38:19] Created netCDF4 zlib=True dataset.\n",
      "comment: Salinity and Temperature along Thalweg for 2D domain NEMO 3.6 from uniform stratification\n",
      "<type 'netCDF4._netCDF4.Dimension'>: name = 'y', size = 10\n",
      "\n",
      "<type 'netCDF4._netCDF4.Dimension'>: name = 'x', size = 1100\n",
      "\n",
      "<type 'netCDF4._netCDF4.Dimension'>: name = 'deptht', size = 40\n",
      "\n",
      "<type 'netCDF4._netCDF4.Dimension'> (unlimited): name = 'time_counter', size = 0\n",
      "\n"
     ]
    }
   ],
   "source": [
    "# build nc file\n",
    "new_TS = nc.Dataset('../initial_conditions/TS_{}_36.nc'.format(date), 'w')\n",
    "nc_tools.init_dataset_attrs(\n",
    "    new_TS, \n",
    "    title='2D T+S initialization', \n",
    "    notebook_name='Generate 2D T+S-NEMO2.6.ipynb', \n",
    "    nc_filepath='/data/nsoontie/MEOPAR/2Ddomain/notebooks/TS_{}.nc'.format(date),\n",
    "    comment='Salinity and Temperature along Thalweg for 2D domain NEMO 3.6 from {} stratification'.format(date))\n",
    "new_TS.createDimension('y', 10)\n",
    "new_TS.createDimension('x', 1100)\n",
    "new_TS.createDimension('deptht',size = len(dspin))\n",
    "new_TS.createDimension('time_counter', None)\n",
    "nc_tools.show_dimensions(new_TS)\n",
    "# variables\n",
    "y = new_TS.createVariable('y', 'float32', ('y','x'))\n",
    "y.long_name = 'spanwise'\n",
    "y.units = 'metres'\n",
    "y =y2d \n",
    "x = new_TS.createVariable('x', 'float32', ('y','x'))\n",
    "x.long_name = 'streamwise'\n",
    "x.units = 'metres'\n",
    "x = x2d\n",
    "deptht = new_TS.createVariable('deptht', 'float32', ('deptht'))\n",
    "deptht.long_name = 'Depth'\n",
    "deptht.units = 'm'\n",
    "deptht.positive = 'down'\n",
    "deptht = dspin\n",
    "time_counter = new_TS.createVariable('time_counter', 'float32', ('time_counter'))\n",
    "time_counter.units = 'seconds since 2003-08-09 0:00:00'\n",
    "time_counter.long_name = 'Time axis'\n",
    "vosaline = new_TS.createVariable('vosaline', 'float32', \n",
    "                               ('time_counter','deptht','y','x'))\n",
    "vosaline.units = 'none'\n",
    "vosaline.long_name = 'Practical Salinity'  \n",
    "vosaline.coordinates = 'x y deptht time_counter'\n",
    "vosaline.grid = '2D bathy'\n",
    "vosaline[0] =S_y\n",
    "votemper = new_TS.createVariable('votemper', 'float32', \n",
    "                               ('time_counter','deptht','y','x'))\n",
    "votemper.units = 'degC'\n",
    "votemper.long_name = 'Temperature' \n",
    "votemper.coordinates = 'nav_lon nav_lat deptht time_counter'\n",
    "votemper[0] = T_y"
   ]
  },
  {
   "cell_type": "code",
   "execution_count": 8,
   "metadata": {
    "collapsed": false
   },
   "outputs": [],
   "source": [
    "new_TS.close()"
   ]
  },
  {
   "cell_type": "code",
   "execution_count": 11,
   "metadata": {
    "collapsed": false
   },
   "outputs": [
    {
     "data": {
      "text/plain": [
       "<matplotlib.collections.QuadMesh at 0x7f1cfb29ab90>"
      ]
     },
     "execution_count": 11,
     "metadata": {},
     "output_type": "execute_result"
    },
    {
     "data": {
      "image/png": "[encoded data removed]",
      "text/plain": [
       "<matplotlib.figure.Figure at 0x7f1cfb2cf050>"
      ]
     },
     "metadata": {},
     "output_type": "display_data"
    }
   ],
   "source": [
    "new=nc.Dataset('../initial_conditions/TS_uniform_36.nc')\n",
    "sal=new.variables['vosaline']\n",
    "plt.pcolormesh(sal[0,:,1,:])"
   ]
  },
  {
   "cell_type": "code",
   "execution_count": 33,
   "metadata": {
    "collapsed": false
   },
   "outputs": [
    {
     "data": {
      "text/plain": [
       "[10, 34, 40, 0]"
      ]
     },
     "execution_count": 33,
     "metadata": {},
     "output_type": "execute_result"
    },
    {
     "data": {
      "image/png": "[encoded data removed]",
      "text/plain": [
       "<matplotlib.figure.Figure at 0x7f1cfa5282d0>"
      ]
     },
     "metadata": {},
     "output_type": "display_data"
    }
   ],
   "source": [
    "plt.plot(sal[0,:,1,1].T, np.arange(40))\n",
    "plt.axis([10,34,40,0])"
   ]
  },
  {
   "cell_type": "code",
   "execution_count": null,
   "metadata": {
    "collapsed": true
   },
   "outputs": [],
   "source": []
  }
 ],
 "metadata": {
  "kernelspec": {
   "display_name": "Python 2",
   "language": "python",
   "name": "python2"
  },
  "language_info": {
   "codemirror_mode": {
    "name": "ipython",
    "version": 2
   },
   "file_extension": ".py",
   "mimetype": "text/x-python",
   "name": "python",
   "nbconvert_exporter": "python",
   "pygments_lexer": "ipython2",
   "version": "2.7.10"
  }
 },
 "nbformat": 4,
 "nbformat_minor": 0
}
