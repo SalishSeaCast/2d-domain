{
 "metadata": {
  "name": "",
  "signature": "sha256:d14aed6cb0183d3dbac6769f8941dc9648802a00c84e2da832a1fe5498726c4e"
 },
 "nbformat": 3,
 "nbformat_minor": 0,
 "worksheets": [
  {
   "cells": [
    {
     "cell_type": "markdown",
     "metadata": {},
     "source": [
      "This notebook generates a 2D initial condition file for the 2D domain."
     ]
    },
    {
     "cell_type": "markdown",
     "metadata": {},
     "source": [
      "Plan: Use T+S structure along thalweg from a spinup. Apply to new domain. If spinup T+S is masked and new profile isn't, set T/S equal to value from above?\n",
      "\n"
     ]
    },
    {
     "cell_type": "code",
     "collapsed": false,
     "input": [
      "import netCDF4 as nc\n",
      "import numpy as np\n",
      "import matplotlib.pyplot as plt\n",
      "\n",
      "from salishsea_tools import tidetools,nc_tools\n",
      "\n",
      "%matplotlib inline"
     ],
     "language": "python",
     "metadata": {},
     "outputs": [],
     "prompt_number": 2
    },
    {
     "cell_type": "heading",
     "level": 1,
     "metadata": {},
     "source": [
      "Spin up data"
     ]
    },
    {
     "cell_type": "code",
     "collapsed": false,
     "input": [
      "#Spinup data and batyhmetry\n",
      "#Choose a date (I should do this in a better way with variables...)\n",
      "date = 'uniform'\n",
      "spinup=nc.Dataset('/data/nsoontie/MEOPAR/NEMO-forcing/initial_strat/SS2_SoG0318_1y_salinity_nomask.nc')\n",
      "dspin =spinup.variables['deptht'][:]\n",
      "\n",
      "grid=nc.Dataset('/data/nsoontie/MEOPAR/NEMO-forcing/grid/bathy_meter_SalishSea2.nc')\n",
      "\n",
      "bathy,X,Y=tidetools.get_bathy_data(grid)\n",
      "\n",
      "lines = np.loadtxt(\n",
      "        '/data/nsoontie/MEOPAR/tools/bathymetry/thalweg_working.txt',\n",
      "        delimiter=\" \", unpack=False)\n",
      "lines = lines.astype(int)\n",
      "\n",
      "Sspin=spinup.variables['vosaline'][0,:,lines[:,0],lines[:,1]]\n",
      "\n",
      "\n",
      "#temperautre\n",
      "spinup=nc.Dataset('/data/nsoontie/MEOPAR/NEMO-forcing/initial_strat/SS2_SoG0318_1y_temperature_nomask.nc')\n",
      "Tspin=spinup.variables['votemper'][0,:,lines[:,0],lines[:,1]]\n",
      "\n",
      "#mu=Sspin==0\n",
      "#Sspin =np.ma.array(Sspin,mask=mu)\n",
      "#mu=Tspin==0\n",
      "#Tspin =np.ma.array(Tspin,mask=mu)\n",
      "\n",
      "xx,zz=np.meshgrid(np.arange(0,lines.shape[0],1),dspin)\n"
     ],
     "language": "python",
     "metadata": {},
     "outputs": [],
     "prompt_number": 3
    },
    {
     "cell_type": "code",
     "collapsed": false,
     "input": [
      "\n",
      "plt.pcolormesh(Sspin,vmin=0,vmax=33)\n",
      "plt.colorbar()"
     ],
     "language": "python",
     "metadata": {},
     "outputs": [
      {
       "metadata": {},
       "output_type": "pyout",
       "prompt_number": 7,
       "text": [
        "<matplotlib.colorbar.Colorbar instance at 0x7f77eb80d488>"
       ]
      },
      {
       "metadata": {},
       "output_type": "display_data",
       "png": "[encoded data removed]",
       "text": [
        "<matplotlib.figure.Figure at 0x7f77eb901890>"
       ]
      }
     ],
     "prompt_number": 7
    },
    {
     "cell_type": "code",
     "collapsed": false,
     "input": [
      "plt.pcolormesh(Tspin,vmin=3,vmax=20)\n",
      "plt.colorbar()"
     ],
     "language": "python",
     "metadata": {},
     "outputs": [
      {
       "metadata": {},
       "output_type": "pyout",
       "prompt_number": 8,
       "text": [
        "<matplotlib.colorbar.Colorbar instance at 0x7f77e98291b8>"
       ]
      },
      {
       "metadata": {},
       "output_type": "display_data",
       "png": "[encoded data removed]",
       "text": [
        "<matplotlib.figure.Figure at 0x7f77e997f790>"
       ]
      }
     ],
     "prompt_number": 8
    },
    {
     "cell_type": "heading",
     "level": 1,
     "metadata": {},
     "source": [
      "2D bathymetry and mask"
     ]
    },
    {
     "cell_type": "code",
     "collapsed": false,
     "input": [
      "grid2D=nc.Dataset('/data/nsoontie/MEOPAR/2Ddomain/bathy2D.nc')\n",
      "\n",
      "bathy2d=grid2D.variables['Bathymetry']\n",
      "x2d=grid2D.variables['x']\n",
      "y2d=grid2D.variables['y']\n",
      "\n",
      "xx2d,zz2d=np.meshgrid(np.arange(0,bathy2d.shape[1],1),dspin)\n",
      "\n",
      "mesh=nc.Dataset('/data/nsoontie/MEOPAR/2Ddomain/mesh_mask.nc')\n",
      "tmask=mesh.variables['tmask']"
     ],
     "language": "python",
     "metadata": {},
     "outputs": [],
     "prompt_number": 9
    },
    {
     "cell_type": "heading",
     "level": 1,
     "metadata": {},
     "source": [
      "Construction of 2D initial condition"
     ]
    },
    {
     "cell_type": "markdown",
     "metadata": {},
     "source": [
      "Copy spinup values but make sure that a non-zero temp and salinity is set if the 2D bathy is lower than 3D bathy. This could happen because of smoothing."
     ]
    },
    {
     "cell_type": "code",
     "collapsed": false,
     "input": [
      "T2d=np.empty((dspin.shape[0],bathy2d.shape[1]))\n",
      "S2d=np.empty((dspin.shape[0],bathy2d.shape[1]))\n",
      "\n",
      "for i in range(S2d.shape[1]):\n",
      "    for k in range(S2d.shape[0]):\n",
      "        if dspin[k] >bathy2d[0,i]:\n",
      "            if tmask[0,k,1,i]==1:\n",
      "                ind=k\n",
      "                while(Tspin[ind,i]==0):\n",
      "                    ind=ind-1\n",
      "                T2d[k,i]=Tspin[ind,i]\n",
      "                S2d[k,i]=Sspin[ind,i]\n",
      "            else:\n",
      "                T2d[k,i]=0\n",
      "                S2d[k,i]=0\n",
      "        elif tmask[0,k,1,i]==1:\n",
      "            ind=k\n",
      "            while(Tspin[ind,i]==0):\n",
      "                ind=ind-1\n",
      "            T2d[k,i]=Tspin[ind,i]\n",
      "            S2d[k,i]=Sspin[ind,i]\n",
      "        else:\n",
      "            T2d[k,i]=Tspin[k,i]\n",
      "            S2d[k,i]=Sspin[k,i]"
     ],
     "language": "python",
     "metadata": {},
     "outputs": [],
     "prompt_number": 10
    },
    {
     "cell_type": "code",
     "collapsed": false,
     "input": [
      "plt.pcolormesh(S2d,vmin=0,vmax=33)\n",
      "\n",
      "plt.colorbar()\n",
      "plt.contour(tmask[0,:,1,:],[0],cmap='Reds')\n",
      "S2d[0,100]"
     ],
     "language": "python",
     "metadata": {},
     "outputs": [
      {
       "metadata": {},
       "output_type": "pyout",
       "prompt_number": 12,
       "text": [
        "14.043100357055664"
       ]
      },
      {
       "metadata": {},
       "output_type": "display_data",
       "png": "[encoded data removed]",
       "text": [
        "<matplotlib.figure.Figure at 0x7f77e97ebd50>"
       ]
      }
     ],
     "prompt_number": 12
    },
    {
     "cell_type": "code",
     "collapsed": false,
     "input": [
      "plt.pcolormesh(T2d,vmin=3,vmax=20)\n",
      "plt.colorbar()\n",
      "plt.contour(tmask[0,:,1,:],[0],cmap='Reds')"
     ],
     "language": "python",
     "metadata": {},
     "outputs": [
      {
       "metadata": {},
       "output_type": "pyout",
       "prompt_number": 13,
       "text": [
        "<matplotlib.contour.QuadContourSet instance at 0x7f77e7841368>"
       ]
      },
      {
       "metadata": {},
       "output_type": "display_data",
       "png": "[encoded data removed]",
       "text": [
        "<matplotlib.figure.Figure at 0x7f77e64ceb90>"
       ]
      }
     ],
     "prompt_number": 13
    },
    {
     "cell_type": "heading",
     "level": 1,
     "metadata": {},
     "source": [
      "Extend into spanwise"
     ]
    },
    {
     "cell_type": "code",
     "collapsed": false,
     "input": [
      "Ny=10\n",
      "T_y=np.tile(T2d,Ny)\n",
      "T_y=T_y.reshape((T2d.shape[0],Ny,T2d.shape[1]))\n",
      "T_y.shape\n"
     ],
     "language": "python",
     "metadata": {},
     "outputs": [
      {
       "metadata": {},
       "output_type": "pyout",
       "prompt_number": 14,
       "text": [
        "(40, 10, 1100)"
       ]
      }
     ],
     "prompt_number": 14
    },
    {
     "cell_type": "code",
     "collapsed": false,
     "input": [
      "plt.pcolormesh(T_y[:,8,:],vmin=3,vmax=20)"
     ],
     "language": "python",
     "metadata": {},
     "outputs": [
      {
       "metadata": {},
       "output_type": "pyout",
       "prompt_number": 15,
       "text": [
        "<matplotlib.collections.QuadMesh at 0x7f77e5116950>"
       ]
      },
      {
       "metadata": {},
       "output_type": "display_data",
       "png": "[encoded data removed]",
       "text": [
        "<matplotlib.figure.Figure at 0x7f77e98b8410>"
       ]
      }
     ],
     "prompt_number": 15
    },
    {
     "cell_type": "code",
     "collapsed": false,
     "input": [
      "S_y=np.tile(S2d,Ny)\n",
      "S_y=S_y.reshape((S2d.shape[0],Ny,S2d.shape[1]))\n",
      "S_y.shape"
     ],
     "language": "python",
     "metadata": {},
     "outputs": [
      {
       "metadata": {},
       "output_type": "pyout",
       "prompt_number": 16,
       "text": [
        "(40, 10, 1100)"
       ]
      }
     ],
     "prompt_number": 16
    },
    {
     "cell_type": "code",
     "collapsed": false,
     "input": [
      "plt.pcolormesh(S_y[:,8,:],vmin=20,vmax=33)"
     ],
     "language": "python",
     "metadata": {},
     "outputs": [
      {
       "metadata": {},
       "output_type": "pyout",
       "prompt_number": 17,
       "text": [
        "<matplotlib.collections.QuadMesh at 0x7f77e646c1d0>"
       ]
      },
      {
       "metadata": {},
       "output_type": "display_data",
       "png": "[encoded data removed]",
       "text": [
        "<matplotlib.figure.Figure at 0x7f77e7991c90>"
       ]
      }
     ],
     "prompt_number": 17
    },
    {
     "cell_type": "heading",
     "level": 1,
     "metadata": {},
     "source": [
      "Save as NETCDF"
     ]
    },
    {
     "cell_type": "code",
     "collapsed": false,
     "input": [
      "# build nc file\n",
      "new_TS = nc.Dataset('../TS_{}.nc'.format(date), 'w')\n",
      "nc_tools.init_dataset_attrs(\n",
      "    new_TS, \n",
      "    title='2D T+S initialization', \n",
      "    notebook_name='Generate 2D T+S.ipynb', \n",
      "    nc_filepath='/data/nsoontie/MEOPAR/2Ddomain/notebooks/TS_{}.nc'.format(date),\n",
      "    comment='Salinity and Temperature along Thalweg for 2D domain from {} stratification'.format(date))\n",
      "new_TS.createDimension('y', 10)\n",
      "new_TS.createDimension('x', 1100)\n",
      "new_TS.createDimension('deptht',size = len(dspin))\n",
      "new_TS.createDimension('time_counter', None)\n",
      "nc_tools.show_dimensions(new_TS)\n",
      "# variables\n",
      "y = new_TS.createVariable('y', 'float32', ('y','x'))\n",
      "y.long_name = 'spanwise'\n",
      "y.units = 'metres'\n",
      "y =y2d \n",
      "x = new_TS.createVariable('x', 'float32', ('y','x'))\n",
      "x.long_name = 'streamwise'\n",
      "x.units = 'metres'\n",
      "x = x2d\n",
      "deptht = new_TS.createVariable('deptht', 'float32', ('deptht'))\n",
      "deptht.long_name = 'Depth'\n",
      "deptht.units = 'm'\n",
      "deptht.positive = 'down'\n",
      "deptht = dspin\n",
      "time_counter = new_TS.createVariable('time_counter', 'float32', ('time_counter'))\n",
      "time_counter.units = 'seconds since 2003-08-09 0:00:00'\n",
      "time_counter.long_name = 'Time axis'\n",
      "vosaline = new_TS.createVariable('vosaline', 'float32', \n",
      "                               ('time_counter','deptht','y','x'))\n",
      "vosaline.units = 'none'\n",
      "vosaline.long_name = 'Practical Salinity'  \n",
      "vosaline.coordinates = 'x y deptht time_counter'\n",
      "vosaline.grid = '2D bathy'\n",
      "vosaline[0] =S_y\n",
      "votemper = new_TS.createVariable('votemper', 'float32', \n",
      "                               ('time_counter','deptht','y','x'))\n",
      "votemper.units = 'degC'\n",
      "votemper.long_name = 'Temperature' \n",
      "votemper.coordinates = 'nav_lon nav_lat deptht time_counter'\n",
      "votemper[0] = T_y"
     ],
     "language": "python",
     "metadata": {},
     "outputs": [
      {
       "output_type": "stream",
       "stream": "stdout",
       "text": [
        "file format: NETCDF4\n",
        "Conventions: CF-1.6\n",
        "title: 2D T+S initialization\n",
        "institution: Dept of Earth, Ocean & Atmospheric Sciences, University of British Columbia\n",
        "source: https://bitbucket.org/salishsea/2d-domain/src/tip/Generate 2D T+S.ipynb\n",
        "references: REQUIRED\n",
        "history: [2015-03-31 15:59:01] Created netCDF4 zlib=True dataset.\n",
        "comment: Salinity and Temperature along Thalweg for 2D domain from uniform stratification\n",
        "<type 'netCDF4.Dimension'>: name = 'y', size = 10\n",
        "\n",
        "<type 'netCDF4.Dimension'>: name = 'x', size = 1100\n",
        "\n",
        "<type 'netCDF4.Dimension'>: name = 'deptht', size = 40\n",
        "\n",
        "<type 'netCDF4.Dimension'> (unlimited): name = 'time_counter', size = 0\n",
        "\n"
       ]
      }
     ],
     "prompt_number": 18
    },
    {
     "cell_type": "code",
     "collapsed": false,
     "input": [
      "new_TS.close()"
     ],
     "language": "python",
     "metadata": {},
     "outputs": [],
     "prompt_number": 19
    },
    {
     "cell_type": "code",
     "collapsed": false,
     "input": [
      "new=nc.Dataset('../TS_uniform.nc')\n",
      "sal=new.variables['vosaline']\n",
      "plt.pcolormesh(sal[0,:,0,:])"
     ],
     "language": "python",
     "metadata": {},
     "outputs": [
      {
       "metadata": {},
       "output_type": "pyout",
       "prompt_number": 20,
       "text": [
        "<matplotlib.collections.QuadMesh at 0x7f77e568d490>"
       ]
      },
      {
       "metadata": {},
       "output_type": "display_data",
       "png": "[encoded data removed]",
       "text": [
        "<matplotlib.figure.Figure at 0x7f77e506a450>"
       ]
      }
     ],
     "prompt_number": 20
    },
    {
     "cell_type": "code",
     "collapsed": false,
     "input": [],
     "language": "python",
     "metadata": {},
     "outputs": [],
     "prompt_number": 15
    }
   ],
   "metadata": {}
  }
 ]
}