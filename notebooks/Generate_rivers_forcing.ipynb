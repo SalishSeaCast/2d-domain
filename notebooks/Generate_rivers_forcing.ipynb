{
 "metadata": {
  "name": "",
  "signature": "sha256:a498427b2b1dbd4088e8f2c2ab71acb33e65741a02076ab9ed0c2c796a92a318"
 },
 "nbformat": 3,
 "nbformat_minor": 0,
 "worksheets": [
  {
   "cells": [
    {
     "cell_type": "markdown",
     "metadata": {},
     "source": [
      "A notebook to generate a river forcing. Constant Fraser river outflow 2000m^3/s.\n",
      "\n",
      "Based on /data/nsoontie/MEOPAR/NEMO-forcing/rivers/Fraser_only_cnst.nc\n",
      "\n"
     ]
    },
    {
     "cell_type": "code",
     "collapsed": false,
     "input": [
      "import netCDF4 as nc\n",
      "import numpy as np\n",
      "\n",
      "from salishsea_tools import nc_tools\n",
      "\n",
      "import matplotlib.pyplot as plt\n",
      "\n",
      "%matplotlib inline"
     ],
     "language": "python",
     "metadata": {},
     "outputs": [],
     "prompt_number": 1
    },
    {
     "cell_type": "heading",
     "level": 1,
     "metadata": {},
     "source": [
      "3D constant forcing"
     ]
    },
    {
     "cell_type": "markdown",
     "metadata": {},
     "source": [
      "First look at the constant Fraser river forcing file. "
     ]
    },
    {
     "cell_type": "code",
     "collapsed": false,
     "input": [
      "river = nc.Dataset('/data/nsoontie/MEOPAR/NEMO-forcing/rivers/rivers_Fraser_only_cnst.nc')"
     ],
     "language": "python",
     "metadata": {},
     "outputs": [],
     "prompt_number": 2
    },
    {
     "cell_type": "code",
     "collapsed": false,
     "input": [
      "nc_tools.show_variables(river)"
     ],
     "language": "python",
     "metadata": {},
     "outputs": [
      {
       "output_type": "stream",
       "stream": "stdout",
       "text": [
        "[u'nav_lat', u'nav_lon', u'time_counter', u'rorunoff', u'rodepth']\n"
       ]
      }
     ],
     "prompt_number": 3
    },
    {
     "cell_type": "code",
     "collapsed": false,
     "input": [
      "run_off_3D = river.variables['rorunoff'][0,:,:]\n",
      "depth_3D =river.variables['rodepth'][:]"
     ],
     "language": "python",
     "metadata": {},
     "outputs": [],
     "prompt_number": 4
    },
    {
     "cell_type": "code",
     "collapsed": false,
     "input": [
      "inds = np.where(run_off_3D != 0.0)"
     ],
     "language": "python",
     "metadata": {},
     "outputs": [],
     "prompt_number": 5
    },
    {
     "cell_type": "code",
     "collapsed": false,
     "input": [
      "run_off_3D[inds]"
     ],
     "language": "python",
     "metadata": {},
     "outputs": [
      {
       "metadata": {},
       "output_type": "pyout",
       "prompt_number": 6,
       "text": [
        "array([ 2.31223202,  4.62446404,  2.31223202], dtype=float32)"
       ]
      }
     ],
     "prompt_number": 6
    },
    {
     "cell_type": "code",
     "collapsed": false,
     "input": [
      "total_run_off_3D = np.sum(run_off_3D[inds])\n",
      "print total_run_off_3D"
     ],
     "language": "python",
     "metadata": {},
     "outputs": [
      {
       "output_type": "stream",
       "stream": "stdout",
       "text": [
        "9.24893\n"
       ]
      }
     ],
     "prompt_number": 7
    },
    {
     "cell_type": "code",
     "collapsed": false,
     "input": [
      "np.max(depth_3D)"
     ],
     "language": "python",
     "metadata": {},
     "outputs": [
      {
       "metadata": {},
       "output_type": "pyout",
       "prompt_number": 8,
       "text": [
        "3.0"
       ]
      }
     ],
     "prompt_number": 8
    },
    {
     "cell_type": "markdown",
     "metadata": {},
     "source": [
      "Dishcharge distrubuted across three different points.\n",
      "\n",
      "Plan: add these up and distrubute across right end of my domain."
     ]
    },
    {
     "cell_type": "heading",
     "level": 1,
     "metadata": {},
     "source": [
      "Towards 2D files"
     ]
    },
    {
     "cell_type": "markdown",
     "metadata": {},
     "source": [
      "Load bathymetry"
     ]
    },
    {
     "cell_type": "code",
     "collapsed": false,
     "input": [
      "fB=nc.Dataset('/data/nsoontie/MEOPAR/2Ddomain/bathy2D.nc')"
     ],
     "language": "python",
     "metadata": {},
     "outputs": [],
     "prompt_number": 9
    },
    {
     "cell_type": "markdown",
     "metadata": {},
     "source": [
      "Iniitialize run off arrays"
     ]
    },
    {
     "cell_type": "code",
     "collapsed": false,
     "input": [
      "d = fB.variables['Bathymetry'][:]\n",
      "X = fB.variables['x'][:]\n",
      "Y=fB.variables['y'][:]\n",
      "ymax, xmax = d.shape\n",
      "runoff = np.zeros((ymax, xmax))\n",
      "run_depth = -np.ones((ymax, xmax)) "
     ],
     "language": "python",
     "metadata": {},
     "outputs": [],
     "prompt_number": 10
    },
    {
     "cell_type": "markdown",
     "metadata": {},
     "source": [
      "Set up parameters"
     ]
    },
    {
     "cell_type": "code",
     "collapsed": false,
     "input": [
      "run_off_depth = 3 # fresh water will be added over three metres"
     ],
     "language": "python",
     "metadata": {},
     "outputs": [],
     "prompt_number": 11
    },
    {
     "cell_type": "markdown",
     "metadata": {},
     "source": [
      "Add river to second to last grid cell. Divide discgarge in spanwise, but exlude first and last."
     ]
    },
    {
     "cell_type": "code",
     "collapsed": false,
     "input": [
      "#depth at last grid cell?\n",
      "print d[1,-2]"
     ],
     "language": "python",
     "metadata": {},
     "outputs": [
      {
       "output_type": "stream",
       "stream": "stdout",
       "text": [
        "10.25\n"
       ]
      }
     ],
     "prompt_number": 12
    },
    {
     "cell_type": "code",
     "collapsed": false,
     "input": [
      "js=1; je=ymax-2\n",
      "\n",
      "runoff[js:je+1,xmax-2] = total_run_off_3D/(je-js)\n",
      "run_depth[js:je+1,xmax-2]= run_off_depth"
     ],
     "language": "python",
     "metadata": {},
     "outputs": [],
     "prompt_number": 13
    },
    {
     "cell_type": "code",
     "collapsed": false,
     "input": [
      "plt.plot(runoff[1,:])"
     ],
     "language": "python",
     "metadata": {},
     "outputs": [
      {
       "metadata": {},
       "output_type": "pyout",
       "prompt_number": 14,
       "text": [
        "[<matplotlib.lines.Line2D at 0x7f59e644b510>]"
       ]
      },
      {
       "metadata": {},
       "output_type": "display_data",
       "png": "[encoded data removed]",
       "text": [
        "<matplotlib.figure.Figure at 0x7f59e6713c10>"
       ]
      }
     ],
     "prompt_number": 14
    },
    {
     "cell_type": "code",
     "collapsed": false,
     "input": [
      "plt.plot(run_depth[1,:])"
     ],
     "language": "python",
     "metadata": {},
     "outputs": [
      {
       "metadata": {},
       "output_type": "pyout",
       "prompt_number": 15,
       "text": [
        "[<matplotlib.lines.Line2D at 0x7f59e622b750>]"
       ]
      },
      {
       "metadata": {},
       "output_type": "display_data",
       "png": "[encoded data removed]",
       "text": [
        "<matplotlib.figure.Figure at 0x7f59e642f310>"
       ]
      }
     ],
     "prompt_number": 15
    },
    {
     "cell_type": "heading",
     "level": 1,
     "metadata": {},
     "source": [
      "Create netcdf file"
     ]
    },
    {
     "cell_type": "code",
     "collapsed": false,
     "input": [
      "nemo = nc.Dataset('../river_cnst.nc', 'w')\n",
      "nemo.description = 'Constant Yearly Average, One River' \n",
      "# dimensions\n",
      "nemo.createDimension('x', xmax)\n",
      "nemo.createDimension('y', ymax)\n",
      "nemo.createDimension('time_counter', None)\n",
      "    \n",
      "# variables\n",
      "y = nemo.createVariable('y','float32',('y','x'),zlib=True)\n",
      "y = Y\n",
      "x = nemo.createVariable('x','float32',('y','x'),zlib=True)\n",
      "x = X\n",
      "    # time\n",
      "time_counter = nemo.createVariable('time_counter', 'float32', ('time_counter'),zlib=True)\n",
      "time_counter.units = 'non-dim'\n",
      "time_counter[0] = 1\n",
      "# runoff\n",
      "rorunoff = nemo.createVariable('rorunoff', 'float32', ('time_counter','y','x'), zlib=True)\n",
      "rorunoff._Fillvalue = 0.\n",
      "rorunoff._missing_value = 0.\n",
      "rorunoff._units = 'kg m-2 s-1'\n",
      "rorunoff[0,:] = runoff\n",
      "# depth\n",
      "rodepth = nemo.createVariable('rodepth','float32',('y','x'),zlib=True)\n",
      "rodepth._Fillvalue = -1.\n",
      "rodepth.missing_value = -1.\n",
      "rodepth.units = 'm'\n",
      "rodepth[:] = run_depth\n",
      "nemo.close()"
     ],
     "language": "python",
     "metadata": {},
     "outputs": [],
     "prompt_number": 17
    },
    {
     "cell_type": "code",
     "collapsed": false,
     "input": [],
     "language": "python",
     "metadata": {},
     "outputs": []
    }
   ],
   "metadata": {}
  }
 ]
}