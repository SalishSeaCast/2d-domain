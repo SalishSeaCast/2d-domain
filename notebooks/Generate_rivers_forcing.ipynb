{
 "cells": [
  {
   "cell_type": "markdown",
   "metadata": {},
   "source": [
    "A notebook to generate a river forcing. Constant Fraser river outflow 2000m^3/s.\n",
    "\n",
    "Based on /data/nsoontie/MEOPAR/NEMO-forcing/rivers/Fraser_only_cnst.nc\n",
    "\n",
    "Uses a runoff temperaure of 14 deg to avoid runaway temperatures."
   ]
  },
  {
   "cell_type": "code",
   "execution_count": 1,
   "metadata": {
    "collapsed": false
   },
   "outputs": [],
   "source": [
    "import netCDF4 as nc\n",
    "import numpy as np\n",
    "\n",
    "from salishsea_tools import nc_tools\n",
    "\n",
    "import matplotlib.pyplot as plt\n",
    "\n",
    "%matplotlib inline"
   ]
  },
  {
   "cell_type": "markdown",
   "metadata": {},
   "source": [
    "# 3D constant forcing"
   ]
  },
  {
   "cell_type": "markdown",
   "metadata": {},
   "source": [
    "First look at the constant Fraser river forcing file. "
   ]
  },
  {
   "cell_type": "code",
   "execution_count": 2,
   "metadata": {
    "collapsed": false
   },
   "outputs": [],
   "source": [
    "river = nc.Dataset('/data/nsoontie/MEOPAR/NEMO-forcing/rivers/rivers_Fraser_only_cnst.nc')"
   ]
  },
  {
   "cell_type": "code",
   "execution_count": 3,
   "metadata": {
    "collapsed": false
   },
   "outputs": [
    {
     "name": "stdout",
     "output_type": "stream",
     "text": [
      "KeysView(OrderedDict([('nav_lat', <class 'netCDF4._netCDF4.Variable'>\n",
      "float32 nav_lat(y, x)\n",
      "unlimited dimensions: \n",
      "current shape = (898, 398)\n",
      "filling off\n",
      "), ('nav_lon', <class 'netCDF4._netCDF4.Variable'>\n",
      "float32 nav_lon(y, x)\n",
      "unlimited dimensions: \n",
      "current shape = (898, 398)\n",
      "filling off\n",
      "), ('time_counter', <class 'netCDF4._netCDF4.Variable'>\n",
      "float32 time_counter(time_counter)\n",
      "    units: non-dim\n",
      "unlimited dimensions: time_counter\n",
      "current shape = (1,)\n",
      "filling off\n",
      "), ('rorunoff', <class 'netCDF4._netCDF4.Variable'>\n",
      "float32 rorunoff(time_counter, y, x)\n",
      "    _Fillvalue: 0.0\n",
      "    _missing_value: 0.0\n",
      "    _units: kg m-2 s-1\n",
      "unlimited dimensions: time_counter\n",
      "current shape = (1, 898, 398)\n",
      "filling off\n",
      "), ('rodepth', <class 'netCDF4._netCDF4.Variable'>\n",
      "float32 rodepth(y, x)\n",
      "    _Fillvalue: -1.0\n",
      "    missing_value: -1.0\n",
      "    units: m\n",
      "unlimited dimensions: \n",
      "current shape = (898, 398)\n",
      "filling off\n",
      ")]))\n"
     ]
    }
   ],
   "source": [
    "nc_tools.show_variables(river)"
   ]
  },
  {
   "cell_type": "code",
   "execution_count": 4,
   "metadata": {
    "collapsed": false
   },
   "outputs": [],
   "source": [
    "run_off_3D = river.variables['rorunoff'][0,:,:]\n",
    "depth_3D =river.variables['rodepth'][:]"
   ]
  },
  {
   "cell_type": "code",
   "execution_count": 5,
   "metadata": {
    "collapsed": false
   },
   "outputs": [],
   "source": [
    "inds = np.where(run_off_3D != 0.0)"
   ]
  },
  {
   "cell_type": "code",
   "execution_count": 6,
   "metadata": {
    "collapsed": false
   },
   "outputs": [
    {
     "data": {
      "text/plain": [
       "array([ 2.31223202,  4.62446404,  2.31223202], dtype=float32)"
      ]
     },
     "execution_count": 6,
     "metadata": {},
     "output_type": "execute_result"
    }
   ],
   "source": [
    "run_off_3D[inds]"
   ]
  },
  {
   "cell_type": "code",
   "execution_count": 7,
   "metadata": {
    "collapsed": false
   },
   "outputs": [
    {
     "name": "stdout",
     "output_type": "stream",
     "text": [
      "9.24893\n"
     ]
    }
   ],
   "source": [
    "total_run_off_3D = np.sum(run_off_3D[inds])\n",
    "print(total_run_off_3D)"
   ]
  },
  {
   "cell_type": "code",
   "execution_count": 8,
   "metadata": {
    "collapsed": false
   },
   "outputs": [
    {
     "data": {
      "text/plain": [
       "3.0"
      ]
     },
     "execution_count": 8,
     "metadata": {},
     "output_type": "execute_result"
    }
   ],
   "source": [
    "np.max(depth_3D)"
   ]
  },
  {
   "cell_type": "markdown",
   "metadata": {},
   "source": [
    "Dishcharge distrubuted across three different points.\n",
    "\n",
    "Plan: add these up and distrubute across right end of my domain."
   ]
  },
  {
   "cell_type": "markdown",
   "metadata": {},
   "source": [
    "# Towards 2D files"
   ]
  },
  {
   "cell_type": "markdown",
   "metadata": {},
   "source": [
    "Load bathymetry"
   ]
  },
  {
   "cell_type": "code",
   "execution_count": 9,
   "metadata": {
    "collapsed": false
   },
   "outputs": [],
   "source": [
    "fB=nc.Dataset('/data/nsoontie/MEOPAR/2Ddomain/grid/bathy2D_36.nc')"
   ]
  },
  {
   "cell_type": "markdown",
   "metadata": {},
   "source": [
    "Iniitialize run off arrays"
   ]
  },
  {
   "cell_type": "code",
   "execution_count": 10,
   "metadata": {
    "collapsed": false
   },
   "outputs": [],
   "source": [
    "d = fB.variables['Bathymetry'][:]\n",
    "X = fB.variables['x'][:]\n",
    "Y=fB.variables['y'][:]\n",
    "ymax, xmax = d.shape\n",
    "runoff = np.zeros((ymax, xmax))\n",
    "run_depth = -np.ones((ymax, xmax)) \n",
    "#run_temp = -999*np.ones((ymax, xmax)) # -999 means missing data and will use surface temp\n",
    "\n",
    "#TEMP = 14 "
   ]
  },
  {
   "cell_type": "markdown",
   "metadata": {},
   "source": [
    "Set up parameters"
   ]
  },
  {
   "cell_type": "code",
   "execution_count": 11,
   "metadata": {
    "collapsed": false
   },
   "outputs": [],
   "source": [
    "run_off_depth = 3 # fresh water will be added over three metres"
   ]
  },
  {
   "cell_type": "markdown",
   "metadata": {},
   "source": [
    "Add river to second to last grid cell. Divide discgarge in spanwise, but exlude first and last."
   ]
  },
  {
   "cell_type": "code",
   "execution_count": 12,
   "metadata": {
    "collapsed": false
   },
   "outputs": [
    {
     "name": "stdout",
     "output_type": "stream",
     "text": [
      "-0.0\n"
     ]
    }
   ],
   "source": [
    "#depth at last grid cell?\n",
    "print(d[2,-1])"
   ]
  },
  {
   "cell_type": "code",
   "execution_count": 13,
   "metadata": {
    "collapsed": false
   },
   "outputs": [],
   "source": [
    "js=1; je=ymax-2\n",
    "\n",
    "runoff[js:je+2,xmax-1] = total_run_off_3D/(je-js)\n",
    "run_depth[js:je+2,xmax-1]= run_off_depth\n",
    "#run_temp[js:je+1,xmax-2]= TEMP"
   ]
  },
  {
   "cell_type": "code",
   "execution_count": 14,
   "metadata": {
    "collapsed": false
   },
   "outputs": [
    {
     "data": {
      "text/plain": [
       "[<matplotlib.lines.Line2D at 0x7fb06b2950b8>]"
      ]
     },
     "execution_count": 14,
     "metadata": {},
     "output_type": "execute_result"
    },
    {
     "data": {
      "image/png": "[encoded data removed]",
      "text/plain": [
       "<matplotlib.figure.Figure at 0x7fb06b582cc0>"
      ]
     },
     "metadata": {},
     "output_type": "display_data"
    }
   ],
   "source": [
    "plt.plot(runoff[1,:])"
   ]
  },
  {
   "cell_type": "code",
   "execution_count": 16,
   "metadata": {
    "collapsed": false
   },
   "outputs": [
    {
     "data": {
      "text/plain": [
       "[<matplotlib.lines.Line2D at 0x7fb069015908>]"
      ]
     },
     "execution_count": 16,
     "metadata": {},
     "output_type": "execute_result"
    },
    {
     "data": {
      "image/png": "[encoded data removed]",
      "text/plain": [
       "<matplotlib.figure.Figure at 0x7fb06b2e2b38>"
      ]
     },
     "metadata": {},
     "output_type": "display_data"
    }
   ],
   "source": [
    "plt.plot(run_depth[1,:])"
   ]
  },
  {
   "cell_type": "code",
   "execution_count": 18,
   "metadata": {
    "collapsed": false
   },
   "outputs": [],
   "source": [
    "#plt.plot(run_temp[1,:])"
   ]
  },
  {
   "cell_type": "markdown",
   "metadata": {},
   "source": [
    "# Create netcdf file"
   ]
  },
  {
   "cell_type": "code",
   "execution_count": 19,
   "metadata": {
    "collapsed": false
   },
   "outputs": [],
   "source": [
    "nemo = nc.Dataset('../rivers/river_cnst.nc', 'w')\n",
    "nemo.description = 'Constant Yearly Average, One River' \n",
    "# dimensions\n",
    "nemo.createDimension('x', xmax)\n",
    "nemo.createDimension('y', ymax)\n",
    "nemo.createDimension('time_counter', None)\n",
    "    \n",
    "# variables\n",
    "y = nemo.createVariable('y','float32',('y','x'),zlib=True)\n",
    "y = Y\n",
    "x = nemo.createVariable('x','float32',('y','x'),zlib=True)\n",
    "x = X\n",
    "    # time\n",
    "time_counter = nemo.createVariable('time_counter', 'float32', ('time_counter'),zlib=True)\n",
    "time_counter.units = 'non-dim'\n",
    "time_counter[0] = 1\n",
    "# runoff\n",
    "rorunoff = nemo.createVariable('rorunoff', 'float32', ('time_counter','y','x'), zlib=True)\n",
    "rorunoff._Fillvalue = 0.\n",
    "rorunoff._missing_value = 0.\n",
    "rorunoff._units = 'kg m-2 s-1'\n",
    "rorunoff[0,:] = runoff\n",
    "# depth\n",
    "rodepth = nemo.createVariable('rodepth','float32',('y','x'),zlib=True)\n",
    "rodepth._Fillvalue = -1.\n",
    "rodepth.missing_value = -1.\n",
    "rodepth.units = 'm'\n",
    "rodepth[:] = run_depth\n",
    "# temp\n",
    "#rotemper = nemo.createVariable('rotemper','float32',('y','x'),zlib=True)\n",
    "#rotemper._Fillvalue = -999.\n",
    "#rotemper.missing_value = -999.\n",
    "#rotemper.units = 'deg C'\n",
    "#rotemper[:] = run_temp\n",
    "nemo.close()"
   ]
  },
  {
   "cell_type": "code",
   "execution_count": null,
   "metadata": {
    "collapsed": false
   },
   "outputs": [],
   "source": []
  }
 ],
 "metadata": {
  "kernelspec": {
   "display_name": "Python 3",
   "language": "python",
   "name": "python3"
  },
  "language_info": {
   "codemirror_mode": {
    "name": "ipython",
    "version": 3
   },
   "file_extension": ".py",
   "mimetype": "text/x-python",
   "name": "python",
   "nbconvert_exporter": "python",
   "pygments_lexer": "ipython3",
   "version": "3.4.3"
  }
 },
 "nbformat": 4,
 "nbformat_minor": 0
}
